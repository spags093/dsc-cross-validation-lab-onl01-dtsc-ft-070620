{
 "cells": [
  {
   "cell_type": "markdown",
   "metadata": {},
   "source": [
    "# Introduction to Cross-Validation - Lab\n",
    "\n",
    "## Introduction\n",
    "\n",
    "In this lab, you'll be able to practice your cross-validation skills!\n",
    "\n",
    "\n",
    "## Objectives\n",
    "\n",
    "You will be able to:\n",
    "\n",
    "- Perform cross validation on a model to determine optimal model performance\n",
    "- Compare training and testing errors to determine if model is over or underfitting"
   ]
  },
  {
   "cell_type": "markdown",
   "metadata": {},
   "source": [
    "## Let's get started\n",
    "\n",
    "We included the code to pre-process below."
   ]
  },
  {
   "cell_type": "code",
   "execution_count": 4,
   "metadata": {},
   "outputs": [
    {
     "name": "stdout",
     "output_type": "stream",
     "text": [
      "Collecting package metadata (current_repodata.json): done\n",
      "Solving environment: done\n",
      "\n",
      "\n",
      "==> WARNING: A newer version of conda exists. <==\n",
      "  current version: 4.8.2\n",
      "  latest version: 4.8.4\n",
      "\n",
      "Please update conda by running\n",
      "\n",
      "    $ conda update -n base -c defaults conda\n",
      "\n",
      "\n",
      "\n",
      "# All requested packages already installed.\n",
      "\n",
      "\n",
      "Note: you may need to restart the kernel to use updated packages.\n"
     ]
    }
   ],
   "source": [
    "%conda upgrade numpy"
   ]
  },
  {
   "cell_type": "code",
   "execution_count": 1,
   "metadata": {},
   "outputs": [],
   "source": [
    "import pandas as pd\n",
    "import numpy as np\n",
    "import matplotlib.pyplot as plt\n",
    "%matplotlib inline\n",
    "\n",
    "ames = pd.read_csv('ames.csv')\n",
    "\n",
    "continuous = ['LotArea', '1stFlrSF', 'GrLivArea', 'SalePrice']\n",
    "categoricals = ['BldgType', 'KitchenQual', 'SaleType', 'MSZoning', 'Street', 'Neighborhood']\n",
    "\n",
    "ames_cont = ames[continuous]\n",
    "\n",
    "# log features\n",
    "log_names = [f'{column}_log' for column in ames_cont.columns]\n",
    "\n",
    "ames_log = np.log(ames_cont)\n",
    "ames_log.columns = log_names\n",
    "\n",
    "# normalize (subract mean and divide by std)\n",
    "\n",
    "def normalize(feature):\n",
    "    return (feature - feature.mean()) / feature.std()\n",
    "\n",
    "ames_log_norm = ames_log.apply(normalize)\n",
    "\n",
    "# one hot encode categoricals\n",
    "ames_ohe = pd.get_dummies(ames[categoricals], prefix=categoricals, drop_first=True)\n",
    "\n",
    "preprocessed = pd.concat([ames_log_norm, ames_ohe], axis=1)\n",
    "\n",
    "X = preprocessed.drop('SalePrice_log', axis=1)\n",
    "y = preprocessed['SalePrice_log']"
   ]
  },
  {
   "cell_type": "markdown",
   "metadata": {},
   "source": [
    "### Train-test split\n",
    "\n",
    "Perform a train-test split with a test set of 20%."
   ]
  },
  {
   "cell_type": "code",
   "execution_count": 3,
   "metadata": {},
   "outputs": [],
   "source": [
    "# Import train_test_split from sklearn.model_selection\n",
    "\n",
    "from sklearn.model_selection import train_test_split"
   ]
  },
  {
   "cell_type": "code",
   "execution_count": 4,
   "metadata": {},
   "outputs": [],
   "source": [
    "# Split the data into training and test sets (assign 20% to test set)\n",
    "X_train, X_test, y_train, y_test = train_test_split(X, y, test_size = 0.2, random_state = 42)"
   ]
  },
  {
   "cell_type": "code",
   "execution_count": 5,
   "metadata": {},
   "outputs": [
    {
     "name": "stdout",
     "output_type": "stream",
     "text": [
      "1168 292 1168 292\n"
     ]
    }
   ],
   "source": [
    "# A brief preview of train-test split\n",
    "print(len(X_train), len(X_test), len(y_train), len(y_test))\n"
   ]
  },
  {
   "cell_type": "markdown",
   "metadata": {},
   "source": [
    "### Fit the model"
   ]
  },
  {
   "cell_type": "markdown",
   "metadata": {},
   "source": [
    "Fit a linear regression model and apply the model to make predictions on test set"
   ]
  },
  {
   "cell_type": "code",
   "execution_count": 8,
   "metadata": {},
   "outputs": [],
   "source": [
    "# Your code here\n",
    "\n",
    "from sklearn.linear_model import LinearRegression\n",
    "linreg = LinearRegression()\n",
    "\n",
    "linreg.fit(X_train, y_train)\n",
    "y_hat_test = linreg.predict(X_test)\n",
    "\n",
    "#y_hat_test"
   ]
  },
  {
   "cell_type": "markdown",
   "metadata": {},
   "source": [
    "### Residuals and MSE"
   ]
  },
  {
   "cell_type": "markdown",
   "metadata": {},
   "source": [
    "Calculate the residuals and the mean squared error on the test set"
   ]
  },
  {
   "cell_type": "code",
   "execution_count": 10,
   "metadata": {},
   "outputs": [
    {
     "data": {
      "text/plain": [
       "0.1759533109730137"
      ]
     },
     "execution_count": 10,
     "metadata": {},
     "output_type": "execute_result"
    }
   ],
   "source": [
    "# Your code here\n",
    "\n",
    "from sklearn.metrics import mean_squared_error\n",
    "\n",
    "test_residuals = y_hat_test - y_test\n",
    "\n",
    "test_mse = mean_squared_error(y_test, y_hat_test)\n",
    "test_mse"
   ]
  },
  {
   "cell_type": "markdown",
   "metadata": {},
   "source": [
    "## Cross-Validation: let's build it from scratch!"
   ]
  },
  {
   "cell_type": "markdown",
   "metadata": {},
   "source": [
    "### Create a cross-validation function"
   ]
  },
  {
   "cell_type": "markdown",
   "metadata": {},
   "source": [
    "Write a function `kfolds()` that splits a dataset into k evenly sized pieces. If the full dataset is not divisible by k, make the first few folds one larger then later ones.\n",
    "\n",
    "We want the folds to be a list of subsets of data!"
   ]
  },
  {
   "cell_type": "code",
   "execution_count": 14,
   "metadata": {},
   "outputs": [],
   "source": [
    "def kfolds(data, k):\n",
    "    # Force data as pandas DataFrame\n",
    "    data = pd.DataFrame(data)\n",
    "    num_observations = len(data)\n",
    "    fold_size = num_observations//k\n",
    "    leftovers = num_observations%k\n",
    "    folds = []\n",
    "    start_obs = 0\n",
    "    for fold_n in range(1,k+1):\n",
    "        if fold_n <= leftovers:\n",
    "            #Fold Size will be 1 larger to account for leftovers\n",
    "            fold =  data.iloc[start_obs : start_obs+fold_size+1] \n",
    "            folds.append(fold)\n",
    "            start_obs +=  fold_size + 1\n",
    "        else:\n",
    "            fold =  data.iloc[start_obs : start_obs+fold_size] \n",
    "            folds.append(fold)\n",
    "            start_obs +=  fold_size\n",
    "            \n",
    "    return folds "
   ]
  },
  {
   "cell_type": "markdown",
   "metadata": {},
   "source": [
    "### Apply it to the Ames Housing data"
   ]
  },
  {
   "cell_type": "code",
   "execution_count": 15,
   "metadata": {},
   "outputs": [],
   "source": [
    "# Make sure to concatenate the data again\n",
    "\n",
    "ames_data = pd.concat([X.reset_index(drop = True), y], axis = 1)"
   ]
  },
  {
   "cell_type": "code",
   "execution_count": 17,
   "metadata": {},
   "outputs": [
    {
     "data": {
      "text/plain": [
       "[     LotArea_log  1stFlrSF_log  GrLivArea_log  BldgType_2fmCon  \\\n",
       " 0      -0.133185     -0.803295       0.529078                0   \n",
       " 1       0.113403      0.418442      -0.381715                0   \n",
       " 2       0.419917     -0.576363       0.659449                0   \n",
       " 3       0.103311     -0.439137       0.541326                0   \n",
       " 4       0.878108      0.112229       1.281751                0   \n",
       " ..           ...           ...            ...              ...   \n",
       " 287    -0.208982     -0.795950      -1.538509                0   \n",
       " 288     0.156994     -0.645537      -1.395230                0   \n",
       " 289    -0.070186     -1.445511      -0.079173                0   \n",
       " 290     1.053039     -0.074628       0.874786                0   \n",
       " 291    -0.898448     -0.522097       0.539579                1   \n",
       " \n",
       "      BldgType_Duplex  BldgType_Twnhs  BldgType_TwnhsE  KitchenQual_Fa  \\\n",
       " 0                  0               0                0               0   \n",
       " 1                  0               0                0               0   \n",
       " 2                  0               0                0               0   \n",
       " 3                  0               0                0               0   \n",
       " 4                  0               0                0               0   \n",
       " ..               ...             ...              ...             ...   \n",
       " 287                0               0                0               0   \n",
       " 288                0               0                0               0   \n",
       " 289                0               0                0               0   \n",
       " 290                0               0                0               0   \n",
       " 291                0               0                0               1   \n",
       " \n",
       "      KitchenQual_Gd  KitchenQual_TA  ...  Neighborhood_NridgHt  \\\n",
       " 0                 1               0  ...                     0   \n",
       " 1                 0               1  ...                     0   \n",
       " 2                 1               0  ...                     0   \n",
       " 3                 1               0  ...                     0   \n",
       " 4                 1               0  ...                     0   \n",
       " ..              ...             ...  ...                   ...   \n",
       " 287               0               1  ...                     0   \n",
       " 288               0               1  ...                     0   \n",
       " 289               0               1  ...                     0   \n",
       " 290               1               0  ...                     0   \n",
       " 291               0               0  ...                     0   \n",
       " \n",
       "      Neighborhood_OldTown  Neighborhood_SWISU  Neighborhood_Sawyer  \\\n",
       " 0                       0                   0                    0   \n",
       " 1                       0                   0                    0   \n",
       " 2                       0                   0                    0   \n",
       " 3                       0                   0                    0   \n",
       " 4                       0                   0                    0   \n",
       " ..                    ...                 ...                  ...   \n",
       " 287                     0                   0                    0   \n",
       " 288                     0                   0                    1   \n",
       " 289                     0                   0                    0   \n",
       " 290                     0                   0                    0   \n",
       " 291                     0                   1                    0   \n",
       " \n",
       "      Neighborhood_SawyerW  Neighborhood_Somerst  Neighborhood_StoneBr  \\\n",
       " 0                       0                     0                     0   \n",
       " 1                       0                     0                     0   \n",
       " 2                       0                     0                     0   \n",
       " 3                       0                     0                     0   \n",
       " 4                       0                     0                     0   \n",
       " ..                    ...                   ...                   ...   \n",
       " 287                     0                     0                     0   \n",
       " 288                     0                     0                     0   \n",
       " 289                     0                     0                     0   \n",
       " 290                     0                     0                     0   \n",
       " 291                     0                     0                     0   \n",
       " \n",
       "      Neighborhood_Timber  Neighborhood_Veenker  SalePrice_log  \n",
       " 0                      0                     0       0.559876  \n",
       " 1                      0                     1       0.212692  \n",
       " 2                      0                     0       0.733795  \n",
       " 3                      0                     0      -0.437232  \n",
       " 4                      0                     0       1.014303  \n",
       " ..                   ...                   ...            ...  \n",
       " 287                    0                     0      -1.599589  \n",
       " 288                    0                     0      -0.781758  \n",
       " 289                    0                     0      -0.205548  \n",
       " 290                    0                     0       0.840475  \n",
       " 291                    0                     0      -0.511642  \n",
       " \n",
       " [292 rows x 48 columns],\n",
       "      LotArea_log  1stFlrSF_log  GrLivArea_log  BldgType_2fmCon  \\\n",
       " 292     0.447039      0.120464       0.539579                0   \n",
       " 293     1.178606      0.894327       1.369125                0   \n",
       " 294     0.113403      1.250703       0.411072                0   \n",
       " 295    -0.254224     -0.304506      -1.070374                0   \n",
       " 296     0.802095     -0.610760       0.249989                0   \n",
       " ..           ...           ...            ...              ...   \n",
       " 579     0.568649     -0.160375       0.674518                0   \n",
       " 580     0.921659      0.809582      -0.009127                0   \n",
       " 581     0.654817      1.933035       1.061041                0   \n",
       " 582     0.518864     -0.953914      -1.688980                0   \n",
       " 583     0.772264      1.005954       1.980605                0   \n",
       " \n",
       "      BldgType_Duplex  BldgType_Twnhs  BldgType_TwnhsE  KitchenQual_Fa  \\\n",
       " 292                0               0                0               0   \n",
       " 293                0               0                0               0   \n",
       " 294                0               0                0               0   \n",
       " 295                0               0                0               0   \n",
       " 296                0               0                0               0   \n",
       " ..               ...             ...              ...             ...   \n",
       " 579                0               0                0               0   \n",
       " 580                0               0                0               0   \n",
       " 581                0               0                0               0   \n",
       " 582                1               0                0               0   \n",
       " 583                0               0                0               0   \n",
       " \n",
       "      KitchenQual_Gd  KitchenQual_TA  ...  Neighborhood_NridgHt  \\\n",
       " 292               0               1  ...                     0   \n",
       " 293               1               0  ...                     0   \n",
       " 294               0               1  ...                     0   \n",
       " 295               0               1  ...                     0   \n",
       " 296               0               1  ...                     0   \n",
       " ..              ...             ...  ...                   ...   \n",
       " 579               0               1  ...                     0   \n",
       " 580               1               0  ...                     0   \n",
       " 581               0               0  ...                     1   \n",
       " 582               0               1  ...                     0   \n",
       " 583               1               0  ...                     0   \n",
       " \n",
       "      Neighborhood_OldTown  Neighborhood_SWISU  Neighborhood_Sawyer  \\\n",
       " 292                     0                   0                    0   \n",
       " 293                     0                   0                    0   \n",
       " 294                     0                   0                    0   \n",
       " 295                     0                   0                    0   \n",
       " 296                     0                   0                    0   \n",
       " ..                    ...                 ...                  ...   \n",
       " 579                     1                   0                    0   \n",
       " 580                     0                   0                    0   \n",
       " 581                     0                   0                    0   \n",
       " 582                     0                   0                    0   \n",
       " 583                     1                   0                    0   \n",
       " \n",
       "      Neighborhood_SawyerW  Neighborhood_Somerst  Neighborhood_StoneBr  \\\n",
       " 292                     0                     0                     0   \n",
       " 293                     0                     0                     0   \n",
       " 294                     0                     0                     0   \n",
       " 295                     0                     0                     0   \n",
       " 296                     0                     0                     0   \n",
       " ..                    ...                   ...                   ...   \n",
       " 579                     0                     0                     0   \n",
       " 580                     0                     0                     0   \n",
       " 581                     0                     0                     0   \n",
       " 582                     0                     0                     0   \n",
       " 583                     0                     0                     0   \n",
       " \n",
       "      Neighborhood_Timber  Neighborhood_Veenker  SalePrice_log  \n",
       " 292                    0                     0      -0.603573  \n",
       " 293                    0                     0       0.859402  \n",
       " 294                    0                     0       0.004251  \n",
       " 295                    0                     0      -0.392922  \n",
       " 296                    0                     0      -0.231355  \n",
       " ..                   ...                   ...            ...  \n",
       " 579                    0                     0      -0.594036  \n",
       " 580                    0                     0       0.218203  \n",
       " 581                    0                     0       1.047063  \n",
       " 582                    0                     0      -0.854628  \n",
       " 583                    0                     0       1.671114  \n",
       " \n",
       " [292 rows x 48 columns],\n",
       "      LotArea_log  1stFlrSF_log  GrLivArea_log  BldgType_2fmCon  \\\n",
       " 584    -0.756638     -0.348746       0.278715                0   \n",
       " 585     0.452790      1.911383       1.040415                0   \n",
       " 586     0.243216     -0.870183      -1.609221                0   \n",
       " 587    -0.067974     -0.788622      -1.531529                0   \n",
       " 588     1.970412      0.905029       0.081793                0   \n",
       " ..           ...           ...            ...              ...   \n",
       " 871    -0.065764     -1.000542       0.479581                0   \n",
       " 872    -0.034653     -0.610760      -1.362102                0   \n",
       " 873     0.567694     -0.202622      -0.367495                0   \n",
       " 874    -0.887266     -1.546307      -0.710288                0   \n",
       " 875    -0.011322      0.217645       1.796823                0   \n",
       " \n",
       "      BldgType_Duplex  BldgType_Twnhs  BldgType_TwnhsE  KitchenQual_Fa  \\\n",
       " 584                0               0                0               0   \n",
       " 585                0               0                0               0   \n",
       " 586                0               0                0               1   \n",
       " 587                0               0                0               0   \n",
       " 588                0               0                0               0   \n",
       " ..               ...             ...              ...             ...   \n",
       " 871                0               0                0               0   \n",
       " 872                0               0                0               0   \n",
       " 873                0               0                0               0   \n",
       " 874                0               0                0               0   \n",
       " 875                0               0                0               0   \n",
       " \n",
       "      KitchenQual_Gd  KitchenQual_TA  ...  Neighborhood_NridgHt  \\\n",
       " 584               1               0  ...                     0   \n",
       " 585               1               0  ...                     0   \n",
       " 586               0               0  ...                     0   \n",
       " 587               0               1  ...                     0   \n",
       " 588               0               0  ...                     0   \n",
       " ..              ...             ...  ...                   ...   \n",
       " 871               1               0  ...                     0   \n",
       " 872               1               0  ...                     0   \n",
       " 873               0               1  ...                     0   \n",
       " 874               0               1  ...                     0   \n",
       " 875               0               0  ...                     0   \n",
       " \n",
       "      Neighborhood_OldTown  Neighborhood_SWISU  Neighborhood_Sawyer  \\\n",
       " 584                     0                   0                    0   \n",
       " 585                     0                   0                    0   \n",
       " 586                     0                   0                    0   \n",
       " 587                     0                   0                    1   \n",
       " 588                     0                   0                    0   \n",
       " ..                    ...                 ...                  ...   \n",
       " 871                     0                   0                    0   \n",
       " 872                     0                   0                    0   \n",
       " 873                     0                   0                    0   \n",
       " 874                     1                   0                    0   \n",
       " 875                     0                   0                    0   \n",
       " \n",
       "      Neighborhood_SawyerW  Neighborhood_Somerst  Neighborhood_StoneBr  \\\n",
       " 584                     0                     0                     0   \n",
       " 585                     0                     0                     0   \n",
       " 586                     0                     0                     0   \n",
       " 587                     0                     0                     0   \n",
       " 588                     0                     0                     0   \n",
       " ..                    ...                   ...                   ...   \n",
       " 871                     0                     0                     0   \n",
       " 872                     0                     0                     0   \n",
       " 873                     0                     0                     0   \n",
       " 874                     0                     0                     0   \n",
       " 875                     0                     1                     0   \n",
       " \n",
       "      Neighborhood_Timber  Neighborhood_Veenker  SalePrice_log  \n",
       " 584                    0                     0      -0.565641  \n",
       " 585                    1                     0       1.995077  \n",
       " 586                    0                     0      -0.622756  \n",
       " 587                    0                     0      -0.491460  \n",
       " 588                    0                     0      -0.384154  \n",
       " ..                   ...                   ...            ...  \n",
       " 871                    0                     0       0.461930  \n",
       " 872                    0                     0      -0.908008  \n",
       " 873                    0                     0      -0.565641  \n",
       " 874                    0                     0      -2.300887  \n",
       " 875                    0                     0       1.499580  \n",
       " \n",
       " [292 rows x 48 columns],\n",
       "       LotArea_log  1stFlrSF_log  GrLivArea_log  BldgType_2fmCon  \\\n",
       " 876      1.985065     -0.190493      -0.961769                0   \n",
       " 877     -0.047300      0.881437       1.317007                0   \n",
       " 878      0.509210      0.139597      -0.647335                0   \n",
       " 879     -0.497002     -0.774018      -1.517616                0   \n",
       " 880     -0.490388     -0.042704      -0.820990                0   \n",
       " ...           ...           ...            ...              ...   \n",
       " 1163     0.684406      0.408450      -0.391233                0   \n",
       " 1164     1.119475      0.816183      -0.002839                0   \n",
       " 1165     0.101489      0.966391       0.140244                0   \n",
       " 1166     0.281977      1.344998       0.500894                0   \n",
       " 1167     0.350308     -0.445694       0.459910                0   \n",
       " \n",
       "       BldgType_Duplex  BldgType_Twnhs  BldgType_TwnhsE  KitchenQual_Fa  \\\n",
       " 876                 0               0                0               0   \n",
       " 877                 0               0                0               0   \n",
       " 878                 0               0                0               0   \n",
       " 879                 0               0                0               0   \n",
       " 880                 0               0                0               0   \n",
       " ...               ...             ...              ...             ...   \n",
       " 1163                1               0                0               0   \n",
       " 1164                0               0                0               0   \n",
       " 1165                0               0                0               0   \n",
       " 1166                0               0                0               0   \n",
       " 1167                0               0                0               0   \n",
       " \n",
       "       KitchenQual_Gd  KitchenQual_TA  ...  Neighborhood_NridgHt  \\\n",
       " 876                0               1  ...                     0   \n",
       " 877                0               0  ...                     1   \n",
       " 878                1               0  ...                     0   \n",
       " 879                0               1  ...                     0   \n",
       " 880                0               1  ...                     0   \n",
       " ...              ...             ...  ...                   ...   \n",
       " 1163               0               1  ...                     0   \n",
       " 1164               1               0  ...                     0   \n",
       " 1165               1               0  ...                     1   \n",
       " 1166               1               0  ...                     0   \n",
       " 1167               0               1  ...                     0   \n",
       " \n",
       "       Neighborhood_OldTown  Neighborhood_SWISU  Neighborhood_Sawyer  \\\n",
       " 876                      0                   0                    0   \n",
       " 877                      0                   0                    0   \n",
       " 878                      0                   0                    1   \n",
       " 879                      0                   0                    0   \n",
       " 880                      0                   0                    0   \n",
       " ...                    ...                 ...                  ...   \n",
       " 1163                     0                   0                    1   \n",
       " 1164                     0                   0                    0   \n",
       " 1165                     0                   0                    0   \n",
       " 1166                     0                   0                    0   \n",
       " 1167                     0                   0                    0   \n",
       " \n",
       "       Neighborhood_SawyerW  Neighborhood_Somerst  Neighborhood_StoneBr  \\\n",
       " 876                      0                     0                     0   \n",
       " 877                      0                     0                     0   \n",
       " 878                      0                     0                     0   \n",
       " 879                      0                     0                     0   \n",
       " 880                      0                     0                     0   \n",
       " ...                    ...                   ...                   ...   \n",
       " 1163                     0                     0                     0   \n",
       " 1164                     0                     0                     0   \n",
       " 1165                     0                     0                     0   \n",
       " 1166                     0                     0                     0   \n",
       " 1167                     0                     0                     0   \n",
       " \n",
       "       Neighborhood_Timber  Neighborhood_Veenker  SalePrice_log  \n",
       " 876                     0                     0      -0.579798  \n",
       " 877                     0                     0       1.856638  \n",
       " 878                     0                     0      -0.298117  \n",
       " 879                     0                     0      -0.500614  \n",
       " 880                     0                     0      -0.150331  \n",
       " ...                   ...                   ...            ...  \n",
       " 1163                    0                     0      -1.064769  \n",
       " 1164                    0                     1       0.379426  \n",
       " 1165                    0                     0       0.839831  \n",
       " 1166                    0                     0       0.967301  \n",
       " 1167                    0                     0       0.092617  \n",
       " \n",
       " [292 rows x 48 columns],\n",
       "       LotArea_log  1stFlrSF_log  GrLivArea_log  BldgType_2fmCon  \\\n",
       " 1168     0.804631      0.352923       1.156408                0   \n",
       " 1169     2.654850      1.589765       2.783348                0   \n",
       " 1170     0.168963      0.037123      -0.744948                0   \n",
       " 1171     0.014276      0.415947      -0.384092                0   \n",
       " 1172    -1.570298     -1.793188      -0.410359                0   \n",
       " ...           ...           ...            ...              ...   \n",
       " 1455    -0.259100     -0.465447       0.416538                0   \n",
       " 1456     0.725171      1.980456       1.106213                0   \n",
       " 1457    -0.002324      0.228260       1.469438                0   \n",
       " 1458     0.136814     -0.077546      -0.854179                0   \n",
       " 1459     0.180080      0.403443      -0.396003                0   \n",
       " \n",
       "       BldgType_Duplex  BldgType_Twnhs  BldgType_TwnhsE  KitchenQual_Fa  \\\n",
       " 1168                0               0                0               0   \n",
       " 1169                0               0                0               0   \n",
       " 1170                0               0                0               0   \n",
       " 1171                0               0                0               0   \n",
       " 1172                0               0                1               0   \n",
       " ...               ...             ...              ...             ...   \n",
       " 1455                0               0                0               0   \n",
       " 1456                0               0                0               0   \n",
       " 1457                0               0                0               0   \n",
       " 1458                0               0                0               0   \n",
       " 1459                0               0                0               0   \n",
       " \n",
       "       KitchenQual_Gd  KitchenQual_TA  ...  Neighborhood_NridgHt  \\\n",
       " 1168               1               0  ...                     0   \n",
       " 1169               1               0  ...                     0   \n",
       " 1170               0               1  ...                     0   \n",
       " 1171               0               1  ...                     0   \n",
       " 1172               1               0  ...                     0   \n",
       " ...              ...             ...  ...                   ...   \n",
       " 1455               0               1  ...                     0   \n",
       " 1456               0               1  ...                     0   \n",
       " 1457               1               0  ...                     0   \n",
       " 1458               1               0  ...                     0   \n",
       " 1459               0               1  ...                     0   \n",
       " \n",
       "       Neighborhood_OldTown  Neighborhood_SWISU  Neighborhood_Sawyer  \\\n",
       " 1168                     0                   0                    0   \n",
       " 1169                     0                   0                    0   \n",
       " 1170                     0                   0                    0   \n",
       " 1171                     0                   0                    0   \n",
       " 1172                     0                   0                    0   \n",
       " ...                    ...                 ...                  ...   \n",
       " 1455                     0                   0                    0   \n",
       " 1456                     0                   0                    0   \n",
       " 1457                     0                   0                    0   \n",
       " 1458                     0                   0                    0   \n",
       " 1459                     0                   0                    0   \n",
       " \n",
       "       Neighborhood_SawyerW  Neighborhood_Somerst  Neighborhood_StoneBr  \\\n",
       " 1168                     0                     0                     0   \n",
       " 1169                     0                     0                     0   \n",
       " 1170                     0                     0                     0   \n",
       " 1171                     0                     0                     0   \n",
       " 1172                     0                     1                     0   \n",
       " ...                    ...                   ...                   ...   \n",
       " 1455                     0                     0                     0   \n",
       " 1456                     0                     0                     0   \n",
       " 1457                     0                     0                     0   \n",
       " 1458                     0                     0                     0   \n",
       " 1459                     0                     0                     0   \n",
       " \n",
       "       Neighborhood_Timber  Neighborhood_Veenker  SalePrice_log  \n",
       " 1168                    0                     0       0.859402  \n",
       " 1169                    0                     0       3.308173  \n",
       " 1170                    0                     0       0.063507  \n",
       " 1171                    0                     0      -0.056441  \n",
       " 1172                    0                     0       0.076648  \n",
       " ...                   ...                   ...            ...  \n",
       " 1455                    0                     0       0.121392  \n",
       " 1456                    0                     0       0.577822  \n",
       " 1457                    0                     0       1.174306  \n",
       " 1458                    0                     0      -0.399519  \n",
       " 1459                    0                     0      -0.306589  \n",
       " \n",
       " [292 rows x 48 columns]]"
      ]
     },
     "execution_count": 17,
     "metadata": {},
     "output_type": "execute_result"
    }
   ],
   "source": [
    "# Apply kfolds() to ames_data with 5 folds\n",
    "\n",
    "ames_folds = kfolds(ames_data, 5)\n",
    "ames_folds"
   ]
  },
  {
   "cell_type": "markdown",
   "metadata": {},
   "source": [
    "### Perform a linear regression for each fold and calculate the training and test error"
   ]
  },
  {
   "cell_type": "markdown",
   "metadata": {},
   "source": [
    "Perform linear regression on each and calculate the training and test error: "
   ]
  },
  {
   "cell_type": "code",
   "execution_count": 19,
   "metadata": {},
   "outputs": [
    {
     "name": "stdout",
     "output_type": "stream",
     "text": [
      "[0.16025695964655187, 0.16025695964655187, 0.16025695964655187, 0.16025695964655187, 0.16025695964655187]\n",
      "[0.1759533109730137, 0.1759533109730137, 0.1759533109730137, 0.1759533109730137, 0.1759533109730137]\n"
     ]
    }
   ],
   "source": [
    "test_errs = []\n",
    "train_errs = []\n",
    "k=5\n",
    "\n",
    "for n in range(k):\n",
    "    # Split in train and test for the fold\n",
    "    train = pd.concat([fold for i, fold in enumerate(ames_folds) if i != n])\n",
    "    test = ames_folds[n]\n",
    "    # Fit a linear regression model\n",
    "    linreg.fit(X_train, y_train)\n",
    "    # Evaluate Train and Test errors\n",
    "    y_hat_train = linreg.predict(X_train)\n",
    "    y_hat_test = linreg.predict(X_test)\n",
    "    train_residuals = y_hat_train - y_train\n",
    "    test_residuals = y_hat_test - y_test\n",
    "    train_errs.append(np.mean(train_residuals.astype(float)**2))\n",
    "    test_errs.append(np.mean(test_residuals.astype(float)**2))\n",
    "\n",
    "print(train_errs)\n",
    "print(test_errs)"
   ]
  },
  {
   "cell_type": "markdown",
   "metadata": {},
   "source": [
    "## Cross-Validation using Scikit-Learn"
   ]
  },
  {
   "cell_type": "markdown",
   "metadata": {},
   "source": [
    "This was a bit of work! Now, let's perform 5-fold cross-validation to get the mean squared error through scikit-learn. Let's have a look at the five individual MSEs and explain what's going on."
   ]
  },
  {
   "cell_type": "code",
   "execution_count": 21,
   "metadata": {},
   "outputs": [
    {
     "data": {
      "text/plain": [
       "-0.17702834210001128"
      ]
     },
     "execution_count": 21,
     "metadata": {},
     "output_type": "execute_result"
    }
   ],
   "source": [
    "# Your code here\n",
    "\n",
    "from sklearn.metrics import mean_squared_error\n",
    "from sklearn.model_selection import cross_val_score\n",
    "\n",
    "cv_5_results  = np.mean(cross_val_score(linreg, X, y, cv=5,  scoring='neg_mean_squared_error'))\n",
    "cv_5_results"
   ]
  },
  {
   "cell_type": "markdown",
   "metadata": {},
   "source": [
    "Next, calculate the mean of the MSE over the 5 cross-validation and compare and contrast with the result from the train-test split case."
   ]
  },
  {
   "cell_type": "code",
   "execution_count": 22,
   "metadata": {},
   "outputs": [
    {
     "data": {
      "text/plain": [
       "-0.17702834210001128"
      ]
     },
     "execution_count": 22,
     "metadata": {},
     "output_type": "execute_result"
    }
   ],
   "source": [
    "# Your code here\n",
    "\n",
    "cv_5_results.mean()"
   ]
  },
  {
   "cell_type": "markdown",
   "metadata": {},
   "source": [
    "##  Summary "
   ]
  },
  {
   "cell_type": "markdown",
   "metadata": {},
   "source": [
    "Congratulations! You are now familiar with cross-validation and know how to use `cross_val_score()`. Remember that the results obtained from cross-validation are robust and always use it whenever possible! "
   ]
  }
 ],
 "metadata": {
  "kernelspec": {
   "display_name": "Python 3",
   "language": "python",
   "name": "python3"
  },
  "language_info": {
   "codemirror_mode": {
    "name": "ipython",
    "version": 3
   },
   "file_extension": ".py",
   "mimetype": "text/x-python",
   "name": "python",
   "nbconvert_exporter": "python",
   "pygments_lexer": "ipython3",
   "version": "3.6.9"
  },
  "toc": {
   "base_numbering": 1,
   "nav_menu": {},
   "number_sections": true,
   "sideBar": true,
   "skip_h1_title": false,
   "title_cell": "Table of Contents",
   "title_sidebar": "Contents",
   "toc_cell": false,
   "toc_position": {},
   "toc_section_display": true,
   "toc_window_display": false
  }
 },
 "nbformat": 4,
 "nbformat_minor": 2
}
